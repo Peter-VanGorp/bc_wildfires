{
 "cells": [
  {
   "cell_type": "code",
   "execution_count": 4,
   "id": "f3678f3b-108f-42e6-b8ec-721f25b23dcd",
   "metadata": {},
   "outputs": [],
   "source": [
    "import pandas as pd\n",
    "from glob import glob\n",
    "from os import listdir"
   ]
  },
  {
   "cell_type": "code",
   "execution_count": 5,
   "id": "edf99a0f-ba6b-4cf9-b2c6-d74fe06784c4",
   "metadata": {},
   "outputs": [
    {
     "name": "stderr",
     "output_type": "stream",
     "text": [
      "C:\\Users\\pvang\\AppData\\Local\\Packages\\PythonSoftwareFoundation.Python.3.8_qbz5n2kfra8p0\\LocalCache\\local-packages\\Python38\\site-packages\\IPython\\core\\interactiveshell.py:3203: DtypeWarning: Columns (10,11,24) have mixed types.Specify dtype option on import or set low_memory=False.\n",
      "  has_raised = await self.run_ast_nodes(code_ast.body, cell_name,\n"
     ]
    }
   ],
   "source": [
    "df = pd.read_csv('NFDB_point_20220901.txt') #can add dtype arg to remove warning "
   ]
  },
  {
   "cell_type": "code",
   "execution_count": 6,
   "id": "33a30d24-c7a1-4f32-a07e-909f96bc7308",
   "metadata": {},
   "outputs": [
    {
     "data": {
      "text/plain": [
       "Index(['FID', 'SRC_AGENCY', 'FIRE_ID', 'FIRENAME', 'LATITUDE', 'LONGITUDE',\n",
       "       'YEAR', 'MONTH', 'DAY', 'REP_DATE', 'ATTK_DATE', 'OUT_DATE', 'DECADE',\n",
       "       'SIZE_HA', 'CAUSE', 'PROTZONE', 'FIRE_TYPE', 'MORE_INFO', 'CFS_REF_ID',\n",
       "       'CFS_NOTE1', 'CFS_NOTE2', 'ACQ_DATE', 'SRC_AGY2', 'ECOZONE', 'ECOZ_REF',\n",
       "       'ECOZ_NAME', 'ECOZ_NOM'],\n",
       "      dtype='object')"
      ]
     },
     "execution_count": 6,
     "metadata": {},
     "output_type": "execute_result"
    }
   ],
   "source": [
    "df.columns"
   ]
  },
  {
   "cell_type": "code",
   "execution_count": 7,
   "id": "82d10001-fdc8-4e25-826e-bae7aa384d1d",
   "metadata": {},
   "outputs": [
    {
     "data": {
      "text/plain": [
       "11443437"
      ]
     },
     "execution_count": 7,
     "metadata": {},
     "output_type": "execute_result"
    }
   ],
   "source": [
    "#Consider fires greater than 200 hectares, as these typically account for over 97% of burned area (according to CNFDB)\n",
    "#identify nearest weather station\n",
    "df.size"
   ]
  },
  {
   "cell_type": "code",
   "execution_count": 8,
   "id": "b6dbe55f-75ef-4960-8ec6-7e3620024ffd",
   "metadata": {},
   "outputs": [],
   "source": [
    "bc_fires = df[df['SRC_AGENCY'] == 'BC']"
   ]
  },
  {
   "cell_type": "code",
   "execution_count": 9,
   "id": "5d96afc8-8fe5-4133-b85e-b969150911c3",
   "metadata": {},
   "outputs": [
    {
     "data": {
      "text/plain": [
       "array(['1950-1959', '1960-1969', '1970-1979', '1980-1989', '1990-1999',\n",
       "       '2000-2009', '1930-1939', '2010-2019', '2020-2029'], dtype=object)"
      ]
     },
     "execution_count": 9,
     "metadata": {},
     "output_type": "execute_result"
    }
   ],
   "source": [
    "bc_fires.DECADE.unique()"
   ]
  },
  {
   "cell_type": "code",
   "execution_count": 10,
   "id": "933aff59-99d5-4f74-a50c-844c163069cb",
   "metadata": {},
   "outputs": [
    {
     "ename": "SyntaxError",
     "evalue": "unexpected EOF while parsing (61051497.py, line 6)",
     "output_type": "error",
     "traceback": [
      "\u001b[1;36m  Cell \u001b[1;32mIn[10], line 6\u001b[1;36m\u001b[0m\n\u001b[1;33m    # your code here\u001b[0m\n\u001b[1;37m                    ^\u001b[0m\n\u001b[1;31mSyntaxError\u001b[0m\u001b[1;31m:\u001b[0m unexpected EOF while parsing\n"
     ]
    }
   ],
   "source": [
    "\n",
    "# get a list of all CSV files\n",
    "csv_files = glob('*.csv')\n",
    "\n",
    "# iterate through the files and do something with them\n",
    "for file in csv_files:\n",
    "    # your code here\n"
   ]
  },
  {
   "cell_type": "code",
   "execution_count": null,
   "id": "2c182ace-c7d7-43c6-b283-1241353fbeaf",
   "metadata": {},
   "outputs": [],
   "source": []
  },
  {
   "cell_type": "code",
   "execution_count": 11,
   "id": "fe353c27-61bb-48df-b671-87e4d6f2c848",
   "metadata": {},
   "outputs": [],
   "source": [
    "networks = listdir('PCDS')\n",
    "network_var_metadata = pd.DataFrame(data=[])\n",
    "\n",
    "for network in networks:\n",
    "    network_variables =  pd.read_csv(f'PCDS/{network}/variables.csv', skiprows=1)\n",
    "    network_variables.columns = network_variables.columns.str.replace(' ', '')\n",
    "    network_variables = network_variables.assign(network = [network]*len(network_variables))\n",
    "    network_variables = network_variables[['network', 'variable', 'standard_name', 'cell_method', 'unit']]\n",
    "    network_var_metadata = pd.concat([network_var_metadata, network_variables])\n",
    "    \n",
    "    "
   ]
  },
  {
   "cell_type": "code",
   "execution_count": 12,
   "id": "789b59b9-c012-43a0-a8e7-4483b46d8e21",
   "metadata": {},
   "outputs": [
    {
     "data": {
      "text/html": [
       "<div>\n",
       "<style scoped>\n",
       "    .dataframe tbody tr th:only-of-type {\n",
       "        vertical-align: middle;\n",
       "    }\n",
       "\n",
       "    .dataframe tbody tr th {\n",
       "        vertical-align: top;\n",
       "    }\n",
       "\n",
       "    .dataframe thead th {\n",
       "        text-align: right;\n",
       "    }\n",
       "</style>\n",
       "<table border=\"1\" class=\"dataframe\">\n",
       "  <thead>\n",
       "    <tr style=\"text-align: right;\">\n",
       "      <th></th>\n",
       "      <th>network</th>\n",
       "      <th>variable</th>\n",
       "      <th>standard_name</th>\n",
       "      <th>cell_method</th>\n",
       "      <th>unit</th>\n",
       "    </tr>\n",
       "  </thead>\n",
       "  <tbody>\n",
       "    <tr>\n",
       "      <th>0</th>\n",
       "      <td>ARDA</td>\n",
       "      <td>MINTMP</td>\n",
       "      <td>air_temperature</td>\n",
       "      <td>time: minimum</td>\n",
       "      <td>celsius</td>\n",
       "    </tr>\n",
       "    <tr>\n",
       "      <th>1</th>\n",
       "      <td>ARDA</td>\n",
       "      <td>PPT</td>\n",
       "      <td>lwe_thickness_of_precipitation_amount</td>\n",
       "      <td>time: sum</td>\n",
       "      <td>mm</td>\n",
       "    </tr>\n",
       "    <tr>\n",
       "      <th>2</th>\n",
       "      <td>ARDA</td>\n",
       "      <td>MAXTMP</td>\n",
       "      <td>air_temperature</td>\n",
       "      <td>time: maximum</td>\n",
       "      <td>celsius</td>\n",
       "    </tr>\n",
       "    <tr>\n",
       "      <th>3</th>\n",
       "      <td>ARDA</td>\n",
       "      <td>ACCPPT1</td>\n",
       "      <td>lwe_thickness_of_precipitation</td>\n",
       "      <td>time: sum</td>\n",
       "      <td>mm</td>\n",
       "    </tr>\n",
       "    <tr>\n",
       "      <th>4</th>\n",
       "      <td>ARDA</td>\n",
       "      <td>ACCPPT2</td>\n",
       "      <td>lwe_thickness_of_precipitation</td>\n",
       "      <td>time: sum</td>\n",
       "      <td>mm</td>\n",
       "    </tr>\n",
       "    <tr>\n",
       "      <th>...</th>\n",
       "      <td>...</td>\n",
       "      <td>...</td>\n",
       "      <td>...</td>\n",
       "      <td>...</td>\n",
       "      <td>...</td>\n",
       "    </tr>\n",
       "    <tr>\n",
       "      <th>9</th>\n",
       "      <td>MoTIm</td>\n",
       "      <td>INTERVAL_SNOW</td>\n",
       "      <td>snowfall_amount</td>\n",
       "      <td>time: sum</td>\n",
       "      <td>cm</td>\n",
       "    </tr>\n",
       "    <tr>\n",
       "      <th>10</th>\n",
       "      <td>MoTIm</td>\n",
       "      <td>STORM_SNOW</td>\n",
       "      <td>snowfall_amount</td>\n",
       "      <td>time: sum</td>\n",
       "      <td>cm</td>\n",
       "    </tr>\n",
       "    <tr>\n",
       "      <th>0</th>\n",
       "      <td>RTA</td>\n",
       "      <td>tasmin</td>\n",
       "      <td>air_temperature</td>\n",
       "      <td>time: minimum</td>\n",
       "      <td>celsius</td>\n",
       "    </tr>\n",
       "    <tr>\n",
       "      <th>1</th>\n",
       "      <td>RTA</td>\n",
       "      <td>pcp</td>\n",
       "      <td>lwe_thickness_of_precipitation_amount</td>\n",
       "      <td>time: sum</td>\n",
       "      <td>mm</td>\n",
       "    </tr>\n",
       "    <tr>\n",
       "      <th>2</th>\n",
       "      <td>RTA</td>\n",
       "      <td>tasmax</td>\n",
       "      <td>air_temperature</td>\n",
       "      <td>time: maximum</td>\n",
       "      <td>celsius</td>\n",
       "    </tr>\n",
       "  </tbody>\n",
       "</table>\n",
       "<p>98 rows × 5 columns</p>\n",
       "</div>"
      ],
      "text/plain": [
       "   network       variable                           standard_name  \\\n",
       "0     ARDA         MINTMP                         air_temperature   \n",
       "1     ARDA            PPT   lwe_thickness_of_precipitation_amount   \n",
       "2     ARDA         MAXTMP                         air_temperature   \n",
       "3     ARDA        ACCPPT1          lwe_thickness_of_precipitation   \n",
       "4     ARDA        ACCPPT2          lwe_thickness_of_precipitation   \n",
       "..     ...            ...                                     ...   \n",
       "9    MoTIm  INTERVAL_SNOW                         snowfall_amount   \n",
       "10   MoTIm     STORM_SNOW                         snowfall_amount   \n",
       "0      RTA         tasmin                         air_temperature   \n",
       "1      RTA            pcp   lwe_thickness_of_precipitation_amount   \n",
       "2      RTA         tasmax                         air_temperature   \n",
       "\n",
       "       cell_method      unit  \n",
       "0    time: minimum   celsius  \n",
       "1        time: sum        mm  \n",
       "2    time: maximum   celsius  \n",
       "3        time: sum        mm  \n",
       "4        time: sum        mm  \n",
       "..             ...       ...  \n",
       "9        time: sum        cm  \n",
       "10       time: sum        cm  \n",
       "0    time: minimum   celsius  \n",
       "1        time: sum        mm  \n",
       "2    time: maximum   celsius  \n",
       "\n",
       "[98 rows x 5 columns]"
      ]
     },
     "execution_count": 12,
     "metadata": {},
     "output_type": "execute_result"
    }
   ],
   "source": [
    "network_var_metadata"
   ]
  },
  {
   "cell_type": "code",
   "execution_count": 16,
   "id": "bc003b91-feb2-4e8f-adeb-70fc66b64c12",
   "metadata": {},
   "outputs": [
    {
     "data": {
      "text/plain": [
       " air_temperature                               22\n",
       " lwe_thickness_of_precipitation_amount         11\n",
       " relative_humidity                             10\n",
       " surface_snow_thickness                         7\n",
       " thickness_of_rainfall_amount                   6\n",
       " wind_speed                                     5\n",
       " wind_from_direction                            5\n",
       " thickness_of_snowfall_amount                   5\n",
       " liquid_water_content_of_surface_snow           2\n",
       " dew_point_temperature                          2\n",
       " lwe_thickness_of_precipitation                 2\n",
       " snowfall_amount                                2\n",
       " downward_heatflux_in_soil                      2\n",
       " downwelling_longwave_flux_in_air               2\n",
       " upwelling_longwave_flux_in_air                 2\n",
       " air_pressure                                   1\n",
       " visibility_in_air                              1\n",
       " duration_of_sunshine                           1\n",
       " mean_sea_level                                 1\n",
       " upwelling_shortwave_flux_in_air                1\n",
       " soil_temperature                               1\n",
       " tendency_of_air_pressure                       1\n",
       " volume_fraction_of_condensed_water_in_soil     1\n",
       " wind_speed_of_gust                             1\n",
       " cloud_area_fraction                            1\n",
       " lwe_thickness_of_surface_snow_amount           1\n",
       " surface_net_downward_radiative_flux            1\n",
       " downwelling_shortwave_flux_in_air              1\n",
       "Name: standard_name, dtype: int64"
      ]
     },
     "execution_count": 16,
     "metadata": {},
     "output_type": "execute_result"
    }
   ],
   "source": [
    "network_var_metadata.standard_name.value_counts()"
   ]
  },
  {
   "cell_type": "code",
   "execution_count": null,
   "id": "c6ae9c87-4b8d-48fb-baa5-cb7570738853",
   "metadata": {},
   "outputs": [],
   "source": [
    "#iterate through all networks, stations and aggregate data\n",
    "#but variables tracked are different for each network - some have different names for the same thing\n",
    "#so do we separate them all into their own dfs for now? or clean them as we go, and collect everything in one big df?\n",
    "#gotta be able to reference them all as one eventually....\n",
    "\n",
    "for network in networks:\n",
    "    stations = listdir(f'PCDS/{network}')\n",
    "    stations.drop('variables.csv')"
   ]
  }
 ],
 "metadata": {
  "kernelspec": {
   "display_name": "Python 3 (ipykernel)",
   "language": "python",
   "name": "python3"
  },
  "language_info": {
   "codemirror_mode": {
    "name": "ipython",
    "version": 3
   },
   "file_extension": ".py",
   "mimetype": "text/x-python",
   "name": "python",
   "nbconvert_exporter": "python",
   "pygments_lexer": "ipython3",
   "version": "3.8.10"
  }
 },
 "nbformat": 4,
 "nbformat_minor": 5
}
